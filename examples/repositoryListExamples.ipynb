{
 "cells": [
  {
   "cell_type": "code",
   "execution_count": 1,
   "metadata": {
    "collapsed": true
   },
   "outputs": [],
   "source": [
    "import multiplicity as mty"
   ]
  },
  {
   "cell_type": "code",
   "execution_count": 2,
   "metadata": {
    "collapsed": true
   },
   "outputs": [],
   "source": [
    "localLSST = mty.LocalLSSTRepos(universalDir='/Users/rbiswas/src/LSST/')"
   ]
  },
  {
   "cell_type": "code",
   "execution_count": 4,
   "metadata": {
    "collapsed": false
   },
   "outputs": [
    {
     "data": {
      "text/plain": [
       "['/Users/rbiswas/src/LSST/afw',\n",
       " '/Users/rbiswas/src/LSST/daf_ingest',\n",
       " '/Users/rbiswas/src/LSST/meas_astrom',\n",
       " '/Users/rbiswas/src/LSST/obs_lsstSim',\n",
       " '/Users/rbiswas/src/LSST/sims_catalogs_generation',\n",
       " '/Users/rbiswas/src/LSST/sims_catalogs_measures',\n",
       " '/Users/rbiswas/src/LSST/sims_catUtils',\n",
       " '/Users/rbiswas/src/LSST/sims_coordUtils',\n",
       " '/Users/rbiswas/src/LSST/sims_maf',\n",
       " '/Users/rbiswas/src/LSST/sims_maps',\n",
       " '/Users/rbiswas/src/LSST/sims_photUtils',\n",
       " '/Users/rbiswas/src/LSST/sims_sed_library',\n",
       " '/Users/rbiswas/src/LSST/sims_sed_library_old',\n",
       " '/Users/rbiswas/src/LSST/sims_skybrightness',\n",
       " '/Users/rbiswas/src/LSST/sims_utils',\n",
       " '/Users/rbiswas/src/LSST/sncosmo']"
      ]
     },
     "execution_count": 4,
     "metadata": {},
     "output_type": "execute_result"
    }
   ],
   "source": [
    "localLSST.lsstrepos"
   ]
  },
  {
   "cell_type": "code",
   "execution_count": 5,
   "metadata": {
    "collapsed": true
   },
   "outputs": [],
   "source": [
    "_ = list(mty.switchBranchToMaster(x) for x in localLSST.lsstrepos)"
   ]
  },
  {
   "cell_type": "code",
   "execution_count": 7,
   "metadata": {
    "collapsed": false
   },
   "outputs": [
    {
     "data": {
      "text/plain": [
       "str"
      ]
     },
     "execution_count": 7,
     "metadata": {},
     "output_type": "execute_result"
    }
   ],
   "source": [
    "type(localLSST.lsstrepos[0])"
   ]
  },
  {
   "cell_type": "code",
   "execution_count": 9,
   "metadata": {
    "collapsed": false
   },
   "outputs": [],
   "source": [
    "import git"
   ]
  },
  {
   "cell_type": "code",
   "execution_count": 10,
   "metadata": {
    "collapsed": false
   },
   "outputs": [
    {
     "data": {
      "text/plain": [
       "'/Users/rbiswas/src/LSST/sims_catUtils'"
      ]
     },
     "execution_count": 10,
     "metadata": {},
     "output_type": "execute_result"
    }
   ],
   "source": [
    "localLSST.lsstrepos[6]"
   ]
  },
  {
   "cell_type": "code",
   "execution_count": 13,
   "metadata": {
    "collapsed": true
   },
   "outputs": [],
   "source": [
    "repo = git.Repo(localLSST.lsstrepos[6])"
   ]
  },
  {
   "cell_type": "code",
   "execution_count": 14,
   "metadata": {
    "collapsed": false
   },
   "outputs": [],
   "source": [
    "o = repo.remotes.origin"
   ]
  },
  {
   "cell_type": "code",
   "execution_count": 17,
   "metadata": {
    "collapsed": false
   },
   "outputs": [
    {
     "data": {
      "text/plain": [
       "[<git.RemoteReference \"refs/remotes/origin/HEAD\">,\n",
       " <git.RemoteReference \"refs/remotes/origin/SIM-1982-add-astropy\">,\n",
       " <git.RemoteReference \"refs/remotes/origin/SIM-2029-redshifting\">,\n",
       " <git.RemoteReference \"refs/remotes/origin/bugfix/CATSIM-103-update-obsMetaData\">,\n",
       " <git.RemoteReference \"refs/remotes/origin/bugfix/CATSIM-108-remove-trim\">,\n",
       " <git.RemoteReference \"refs/remotes/origin/bugfix/CATSIM-113\">,\n",
       " <git.RemoteReference \"refs/remotes/origin/bugfix/CATSIM-131-phosim-unittest\">,\n",
       " <git.RemoteReference \"refs/remotes/origin/bugfix/CATSIM-140-opsim-as-dbobject\">,\n",
       " <git.RemoteReference \"refs/remotes/origin/bugfix/CATSIM-142-add-all-to-modules\">,\n",
       " <git.RemoteReference \"refs/remotes/origin/bugfix/CATSIM-169-catalogModel-bugs\">,\n",
       " <git.RemoteReference \"refs/remotes/origin/bugfix/CATSIM-179-phoSim-test-is-null\">,\n",
       " <git.RemoteReference \"refs/remotes/origin/bugfix/CATSIM-188-arcseconds\">,\n",
       " <git.RemoteReference \"refs/remotes/origin/bugfix/CATSIM-189-fix-parallax-units-consistently\">,\n",
       " <git.RemoteReference \"refs/remotes/origin/bugfix/CATSIM-209-queries-to-allstars-return-duplicate\">,\n",
       " <git.RemoteReference \"refs/remotes/origin/bugfix/CATSIM-211-rotskypos-in-radians\">,\n",
       " <git.RemoteReference \"refs/remotes/origin/bugfix/CATSIM-96-galaxies-have-no-size\">,\n",
       " <git.RemoteReference \"refs/remotes/origin/bugfix/SIM-1162/fix_noise_units\">,\n",
       " <git.RemoteReference \"refs/remotes/origin/bugfix/SIM-1214/cosmologicalDimming\">,\n",
       " <git.RemoteReference \"refs/remotes/origin/bugfix/SIM-1315/registryBug\">,\n",
       " <git.RemoteReference \"refs/remotes/origin/bugfix/SIM-1382/calculatePupilCoordinates\">,\n",
       " <git.RemoteReference \"refs/remotes/origin/bugfix/SIM-1447/actual_calculate_columns\">,\n",
       " <git.RemoteReference \"refs/remotes/origin/bugfix/SIM-1552/GalaxyTileObjColnames\">,\n",
       " <git.RemoteReference \"refs/remotes/origin/bugfix/SIM-1557/testAllObjects\">,\n",
       " <git.RemoteReference \"refs/remotes/origin/bugfix/SIM-1560/numpy1_10\">,\n",
       " <git.RemoteReference \"refs/remotes/origin/bugfix/SIM-1595/CompoundCatalogDBObject\">,\n",
       " <git.RemoteReference \"refs/remotes/origin/bugfix/SIM-1615/gamma_cache\">,\n",
       " <git.RemoteReference \"refs/remotes/origin/bugfix/SIM-1627-dmag-units\">,\n",
       " <git.RemoteReference \"refs/remotes/origin/bugfix/SIM-1664/pointing\">,\n",
       " <git.RemoteReference \"refs/remotes/origin/bugfix/SIM-1732/mltPhoSim\">,\n",
       " <git.RemoteReference \"refs/remotes/origin/bugfix/SIM-994-galaxyagnobj-and-galaxybulgeobj-need\">,\n",
       " <git.RemoteReference \"refs/remotes/origin/bugfix/ebv\">,\n",
       " <git.RemoteReference \"refs/remotes/origin/bugfix_sncat\">,\n",
       " <git.RemoteReference \"refs/remotes/origin/compoundCatalogVariabilityQuickfix\">,\n",
       " <git.RemoteReference \"refs/remotes/origin/feature/CATSIM-104-documentation-and-examples-for\">,\n",
       " <git.RemoteReference \"refs/remotes/origin/feature/CATSIM-130-update-bounds-API\">,\n",
       " <git.RemoteReference \"refs/remotes/origin/feature/CATSIM-147-generalize-findchipname\">,\n",
       " <git.RemoteReference \"refs/remotes/origin/feature/CATSIM-151-split-astrometry-and-photometry\">,\n",
       " <git.RemoteReference \"refs/remotes/origin/feature/CATSIM-157-catsim-demos\">,\n",
       " <git.RemoteReference \"refs/remotes/origin/feature/CATSIM-159-galsim-galaxy-images\">,\n",
       " <git.RemoteReference \"refs/remotes/origin/feature/CATSIM-183-rrlyrae-catalog\">,\n",
       " <git.RemoteReference \"refs/remotes/origin/feature/CATSIM-190-change-cosmology-api-to-accept\">,\n",
       " <git.RemoteReference \"refs/remotes/origin/feature/CATSIM-207-create-branch-to-have-code-in\">,\n",
       " <git.RemoteReference \"refs/remotes/origin/feature/CATSIM-24-generate-camera-model-for-catsim\">,\n",
       " <git.RemoteReference \"refs/remotes/origin/feature/CATSIM-78-accept-sdss-filters-in-photutils\">,\n",
       " <git.RemoteReference \"refs/remotes/origin/feature/CATSIM-91-simplify-phoSim-input\">,\n",
       " <git.RemoteReference \"refs/remotes/origin/feature/CATSIM-99-refactor-DBObject\">,\n",
       " <git.RemoteReference \"refs/remotes/origin/feature/SIM-1046-refactor-photometric-uncertainty\">,\n",
       " <git.RemoteReference \"refs/remotes/origin/feature/SIM-1054/newSedLibrary\">,\n",
       " <git.RemoteReference \"refs/remotes/origin/feature/SIM-1092\">,\n",
       " <git.RemoteReference \"refs/remotes/origin/feature/SIM-1101/PhotometricParameters\">,\n",
       " <git.RemoteReference \"refs/remotes/origin/feature/SIM-1103/rewrite_obs_metadata\">,\n",
       " <git.RemoteReference \"refs/remotes/origin/feature/SIM-1150/redesign_astrometry_api\">,\n",
       " <git.RemoteReference \"refs/remotes/origin/feature/SIM-1182/customizable_galsim\">,\n",
       " <git.RemoteReference \"refs/remotes/origin/feature/SIM-1186/document_data_ingest\">,\n",
       " <git.RemoteReference \"refs/remotes/origin/feature/SIM-120-ipython-demos\">,\n",
       " <git.RemoteReference \"refs/remotes/origin/feature/SIM-1206/angleAPI\">,\n",
       " <git.RemoteReference \"refs/remotes/origin/feature/SIM-125-galsim-noise\">,\n",
       " <git.RemoteReference \"refs/remotes/origin/feature/SIM-136-photometric-uncertainties\">,\n",
       " <git.RemoteReference \"refs/remotes/origin/feature/SIM-1372/photometryRedesign\">,\n",
       " <git.RemoteReference \"refs/remotes/origin/feature/SIM-1378/variabilityExample\">,\n",
       " <git.RemoteReference \"refs/remotes/origin/feature/SIM-1458/testSSMobj\">,\n",
       " <git.RemoteReference \"refs/remotes/origin/feature/SIM-1460/UTC-TAI\">,\n",
       " <git.RemoteReference \"refs/remotes/origin/feature/SIM-1460/use_astropy_time\">,\n",
       " <git.RemoteReference \"refs/remotes/origin/feature/SIM-1471/phoSimMetaData\">,\n",
       " <git.RemoteReference \"refs/remotes/origin/feature/SIM-1496-newNeff\">,\n",
       " <git.RemoteReference \"refs/remotes/origin/feature/SIM-1504/ssmMixins\">,\n",
       " <git.RemoteReference \"refs/remotes/origin/feature/SIM-1504/ssmPhotometry\">,\n",
       " <git.RemoteReference \"refs/remotes/origin/feature/SIM-1534/pointingRaDec\">,\n",
       " <git.RemoteReference \"refs/remotes/origin/feature/SIM-1625/snr_refactor\">,\n",
       " <git.RemoteReference \"refs/remotes/origin/feature/SIM-1635/sed_lfs\">,\n",
       " <git.RemoteReference \"refs/remotes/origin/feature/SIM-166-update-opsim-interface\">,\n",
       " <git.RemoteReference \"refs/remotes/origin/feature/SIM-1740/dePrecession\">,\n",
       " <git.RemoteReference \"refs/remotes/origin/feature/SIM-1983/wavefront_sensor_methods\">,\n",
       " <git.RemoteReference \"refs/remotes/origin/feature/SIM-2050/bright_stars\">,\n",
       " <git.RemoteReference \"refs/remotes/origin/feature/SIM-58-add-snia-to-catalogs-of-galaxies-generated\">,\n",
       " <git.RemoteReference \"refs/remotes/origin/feature/SIM-90-use-palpy\">,\n",
       " <git.RemoteReference \"refs/remotes/origin/feature/SIM-943-move-utility-functions\">,\n",
       " <git.RemoteReference \"refs/remotes/origin/feature/SIM-950-refactor-galsim-findDetectors\">,\n",
       " <git.RemoteReference \"refs/remotes/origin/feature/SIM-952-realistic-galsim-psf\">,\n",
       " <git.RemoteReference \"refs/remotes/origin/feature/SNObjectSED_regions\">,\n",
       " <git.RemoteReference \"refs/remotes/origin/feature/SNsourceSED\">,\n",
       " <git.RemoteReference \"refs/remotes/origin/feature/TwinklesDB_split\">,\n",
       " <git.RemoteReference \"refs/remotes/origin/feature/addTwinklesSNCatalog\">,\n",
       " <git.RemoteReference \"refs/remotes/origin/feature/add_obsMetadata\">,\n",
       " <git.RemoteReference \"refs/remotes/origin/feature/add_tinklesDB\">,\n",
       " <git.RemoteReference \"refs/remotes/origin/feature/rectifySNOBjectSED\">,\n",
       " <git.RemoteReference \"refs/remotes/origin/feature/setUpSphinx\">,\n",
       " <git.RemoteReference \"refs/remotes/origin/feature/split_sncat\">,\n",
       " <git.RemoteReference \"refs/remotes/origin/fix_bug\">,\n",
       " <git.RemoteReference \"refs/remotes/origin/investigate_SNTest\">,\n",
       " <git.RemoteReference \"refs/remotes/origin/master\">,\n",
       " <git.RemoteReference \"refs/remotes/origin/newTwinklesCatalog\">,\n",
       " <git.RemoteReference \"refs/remotes/origin/revert-58-u/danielsf/SIM-1794/cherry_pick\">,\n",
       " <git.RemoteReference \"refs/remotes/origin/sfd_garage/testSSM_Diasources_not_passing\">,\n",
       " <git.RemoteReference \"refs/remotes/origin/sncatsim_rebase\">,\n",
       " <git.RemoteReference \"refs/remotes/origin/sncosmo_v1.3.0\">,\n",
       " <git.RemoteReference \"refs/remotes/origin/sncosmo_v1.3.0_and_tests\">,\n",
       " <git.RemoteReference \"refs/remotes/origin/sniacatsim_rebase\">,\n",
       " <git.RemoteReference \"refs/remotes/origin/sniaincatsim\">,\n",
       " <git.RemoteReference \"refs/remotes/origin/snicatsim_rebase\">,\n",
       " <git.RemoteReference \"refs/remotes/origin/splitObservationMetaDataGeneratory\">,\n",
       " <git.RemoteReference \"refs/remotes/origin/staticCatalogImages\">,\n",
       " <git.RemoteReference \"refs/remotes/origin/tickets/DM-3630\">,\n",
       " <git.RemoteReference \"refs/remotes/origin/u/danielsf/SIM-1794/cherry_pick\">,\n",
       " <git.RemoteReference \"refs/remotes/origin/u/danielsf/dePrecessPhoSim\">,\n",
       " <git.RemoteReference \"refs/remotes/origin/u/danielsf/lightCurveGenerator\">,\n",
       " <git.RemoteReference \"refs/remotes/origin/u/danielsf/mockOpSim\">,\n",
       " <git.RemoteReference \"refs/remotes/origin/u/danielsf/snBatches\">]"
      ]
     },
     "execution_count": 17,
     "metadata": {},
     "output_type": "execute_result"
    }
   ],
   "source": [
    "o.refs"
   ]
  },
  {
   "cell_type": "code",
   "execution_count": null,
   "metadata": {
    "collapsed": true
   },
   "outputs": [],
   "source": [
    "o.pull()"
   ]
  }
 ],
 "metadata": {
  "kernelspec": {
   "display_name": "Python 2",
   "language": "python",
   "name": "python2"
  },
  "language_info": {
   "codemirror_mode": {
    "name": "ipython",
    "version": 2
   },
   "file_extension": ".py",
   "mimetype": "text/x-python",
   "name": "python",
   "nbconvert_exporter": "python",
   "pygments_lexer": "ipython2",
   "version": "2.7.11"
  }
 },
 "nbformat": 4,
 "nbformat_minor": 0
}
